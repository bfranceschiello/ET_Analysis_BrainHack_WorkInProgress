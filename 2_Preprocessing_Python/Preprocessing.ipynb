{
 "cells": [
  {
   "cell_type": "code",
   "execution_count": null,
   "metadata": {
    "collapsed": true
   },
   "outputs": [],
   "source": [
    "#################################################\n",
    "#\n",
    "# Preprocessing pipeline for eyetracking data\n",
    "# Inputs: a folder of .mat files with eyetracking data\n",
    "# Outputs: preprocessed data that can be fed into ML algorithms\n",
    "# Authors:\n",
    "#   Benedetta Franceschiello, Ph.D., benedetta.franceschiello@gmail.com (project leader)\n",
    "#   Alicja Olszewska, a.olszewska@nencki.edu.pl\n",
    "#   Monika Puchalska, m.puchalska@nencki.edu.pl\n",
    "#\n",
    "#   Brainhack Warsaw 2022, 25-27.03.2022 https://brainhackwarsaw.github.io/\n",
    "#\n",
    "###################################################"
   ]
  },
  {
   "cell_type": "code",
   "execution_count": null,
   "outputs": [],
   "source": [
    "'''\n",
    "This code takes raw eye-tracking trajectories (x, y coordinates)\n",
    "and transforms them in a way that can be used for machine learning.\n",
    "\n",
    "Output: .mat files with coordinates for x, y, labels and RTs, properly formatted\n",
    "Required input data: x, y, label (neglect/healthy), RTs( optional)\n",
    "\n",
    "If response times (RTs) are present, they can be included in the data.\n",
    "In the example RTs are not included.\n",
    "'''"
   ],
   "metadata": {
    "collapsed": false,
    "pycharm": {
     "name": "#%%\n"
    }
   }
  },
  {
   "cell_type": "code",
   "execution_count": 1,
   "outputs": [],
   "source": [
    "import scipy.io\n",
    "import os\n",
    "import os.path as op\n",
    "import numpy as np\n",
    "import pandas as pd\n",
    "import matplotlib.pyplot as plt"
   ],
   "metadata": {
    "collapsed": false,
    "pycharm": {
     "name": "#%%\n"
    }
   }
  },
  {
   "cell_type": "code",
   "execution_count": 9,
   "outputs": [
    {
     "name": "stdout",
     "output_type": "stream",
     "text": [
      "Dataset path set to :\n",
      " /Volumes/GoogleDrive/.shortcut-targets-by-id/1GP7DKWJranQy6jycoCLbBHoyU1gq8cLp/2_TeamWork_VisualNeglect/1_Dataset\n"
     ]
    }
   ],
   "source": [
    "# Set Dataset path and read its contents\n",
    "# Dataset path should point to the folder where the eyetracking data is localised\n",
    "Dataset_path = ''\n",
    "while not op.isdir(Dataset_path):\n",
    "    Dataset_path = str(input('Please provide your Dataset path:\\t'))\n",
    "    if not op.isdir(Dataset_path):\n",
    "        print('That\\'s not a valid path, let\\'s try again or \\'q\\' to quit.')\n",
    "    if Dataset_path == 'q': break\n",
    "if Dataset_path != 'q':\n",
    "    Dataset_folder = sorted([ f.path for f in os.scandir(Dataset_path) if '.mat' in f.name ])\n",
    "    if len(Dataset_folder) == 0:\n",
    "        print('Your path does not contain valid files. Please try again.')\n",
    "print('Dataset path set to :\\n', Dataset_path)"
   ],
   "metadata": {
    "collapsed": false,
    "pycharm": {
     "name": "#%%\n"
    }
   }
  },
  {
   "cell_type": "code",
   "execution_count": null,
   "outputs": [],
   "source": [
    "# load the first of the eyetracking files to read the columns from the .mat files\n",
    "# This will serve as a basis for the identification how all the files should be read\n",
    "params_keys = ['Coords_X', 'Coords_Y', 'Labels', 'RTs']\n",
    "\n",
    "mat = scipy.io.loadmat(Dataset_folder[0])\n",
    "param_dict = sorted(list(mat.keys()))\n",
    "print('We assume the files need to contain the parameters:\\n - X, Y coordinates in time (separately)\\n - Ground Truth labels\\n - (optional) Response Times.')"
   ],
   "metadata": {
    "collapsed": false,
    "pycharm": {
     "name": "#%%\n"
    }
   }
  },
  {
   "cell_type": "code",
   "execution_count": null,
   "outputs": [],
   "source": [
    "# Indicate whether response times should be used\n",
    "rtflag = str(input('Do you want to make use of Response Times? [Y/N/q]:\\t'))\n",
    "if rtflag == 'Y': RT_Present = True\n",
    "else: RT_Present = False\n",
    "\n",
    "if not RT_Present:\n",
    "    params_keys.remove('RTs')\n",
    "\n",
    "#present the user with their choice\n",
    "print('Your files contain the following fields:')\n",
    "for i, elem in enumerate(param_dict):\n",
    "    print('[',i,']\\t',elem)"
   ],
   "metadata": {
    "collapsed": false,
    "pycharm": {
     "name": "#%%\n"
    }
   }
  },
  {
   "cell_type": "code",
   "execution_count": null,
   "outputs": [],
   "source": [
    "# indicate in which columns from the .mat files should be read\n",
    "params_vals = []\n",
    "for key in params_keys:\n",
    "    params_vals.append(param_dict[int(input('Please select a number corresponding to the field:\\t'+key))])\n",
    "\n",
    "Parameters = { key : val for key, val in zip(params_keys,params_vals)}"
   ],
   "metadata": {
    "collapsed": false,
    "pycharm": {
     "name": "#%%\n"
    }
   }
  },
  {
   "cell_type": "code",
   "execution_count": null,
   "outputs": [],
   "source": [
    "# Indicate maximum trial length; all lengths will be scaled. Default is 3000.\n",
    "MaxExpLength = int(input('Please provide the maximum trial length:\\t'))"
   ],
   "metadata": {
    "collapsed": false,
    "pycharm": {
     "name": "#%%\n"
    }
   }
  },
  {
   "cell_type": "code",
   "execution_count": null,
   "outputs": [],
   "source": [
    "# Present the user with their choices\n",
    "print('Here are the settings you chose:')\n",
    "print('Parameters:\\n', Parameters)\n",
    "print('Maximum trial length:\\t', MaxExpLength)"
   ],
   "metadata": {
    "collapsed": false,
    "pycharm": {
     "name": "#%%\n"
    }
   }
  },
  {
   "cell_type": "code",
   "execution_count": 7,
   "outputs": [],
   "source": [
    "# #Defaults\n",
    "# Dataset_path = '/Volumes/GoogleDrive/.shortcut-targets-by-id/1GP7DKWJranQy6jycoCLbBHoyU1gq8cLp/2_TeamWork_VisualNeglect/1_Dataset'\n",
    "# Dataset_folder = sorted([ f.path for f in os.scandir(Dataset_path) if '.mat' in f.name ])\n",
    "# RT_Present = False\n",
    "# MaxExpLength = 3000\n",
    "# Parameters = {'Coords_X': 'EyeX_', 'Coords_Y': 'EyeY_', 'Labels': 'Label'}"
   ],
   "metadata": {
    "collapsed": false,
    "pycharm": {
     "name": "#%%\n"
    }
   }
  },
  {
   "cell_type": "code",
   "execution_count": null,
   "outputs": [],
   "source": [
    "# Read the dataset\n",
    "Dataset = []\n",
    "for subject in Dataset_folder:\n",
    "    #read the .mat file\n",
    "    m = scipy.io.loadmat(subject)\n",
    "    singlesubj_trials = []\n",
    "\n",
    "    #fill the data structure with trial information\n",
    "    for i in range(0, len(m[Parameters['Coords_X']])):\n",
    "\n",
    "        #dimensions\n",
    "        cX = m[Parameters['Coords_X']][i]\n",
    "        cY = m[Parameters['Coords_Y']][i]\n",
    "\n",
    "        #interpolate to get rid of NaNs and extend to max length\n",
    "        trial_df = pd.DataFrame()\n",
    "        xs = pd.DataFrame(cX).transpose().rename({0: 'X'}, axis='index').transpose()\n",
    "        xs = xs.reindex(list(range(0, MaxExpLength))).reset_index(drop=True)\n",
    "        xs['X'] = xs['X'].ffill().bfill()\n",
    "        ys = pd.DataFrame(cY).transpose().rename({0: 'Y'}, axis='index').transpose()\n",
    "        ys = ys.reindex(list(range(0, MaxExpLength))).reset_index(drop=True)\n",
    "        ys['Y'] = ys['Y'].ffill().bfill()\n",
    "        trial_df = xs.transpose().append(ys.transpose()).transpose()\n",
    "\n",
    "        #label, 1 = healthy, -1 = neglect\n",
    "        trial_df['label'] = m[Parameters['Labels']][0,0]\n",
    "\n",
    "        #response times\n",
    "        if RT_Present:\n",
    "            trial_df['RT'] = m[Parameters['RTs']].tolist()[i][0]\n",
    "\n",
    "        singlesubj_trials.append(trial_df)\n",
    "    Dataset.append(singlesubj_trials)\n",
    "    print('Finished subject\\t', Dataset_folder.index(subject)+1)\n",
    "print('Done!')"
   ],
   "metadata": {
    "collapsed": false,
    "pycharm": {
     "name": "#%%\n",
     "is_executing": true
    }
   }
  },
  {
   "cell_type": "code",
   "execution_count": null,
   "outputs": [],
   "source": [
    "#plot trajectory 29 from subj 7\n",
    "subj = Dataset[7]\n",
    "trial = subj[29]\n",
    "\n",
    "f, ax = plt.subplots(figsize=(18, 18))\n",
    "\n",
    "plt.plot(trial['X'], trial['Y'], '-o')\n",
    "plt.show()"
   ],
   "metadata": {
    "collapsed": false,
    "pycharm": {
     "name": "#%%\n"
    }
   }
  },
  {
   "cell_type": "code",
   "execution_count": null,
   "outputs": [],
   "source": [
    "# save X, Y, and labels to .mat files\n",
    "Xall = np.zeros((0, MaxExpLength))\n",
    "Yall = np.zeros((0, MaxExpLength))\n",
    "Lall = np.zeros((0, 1))\n",
    "if RT_Present: RTall = np.zeros((0, 1))\n",
    "for i, subj in enumerate(Dataset):\n",
    "    for trial in subj:\n",
    "        X_to_append = np.reshape(np.array(trial['X']), (1, 3000))\n",
    "        Y_to_append = np.reshape(np.array(trial['Y']), (1, 3000))\n",
    "        L_to_append = np.reshape(np.array(trial['label'][0]), (1, 1))\n",
    "\n",
    "        Xall = np.append(Xall, X_to_append, axis = 0)\n",
    "        Yall = np.append(Yall, Y_to_append, axis = 0)\n",
    "        Lall = np.append(Lall, L_to_append, axis = 0)\n",
    "\n",
    "        if RT_Present:\n",
    "            RT_to_append = np.reshape(np.array(trial['RT'][0]), (1, 1))\n",
    "            RTall = np.append(RTall, RT_to_append, axis = 0)\n",
    "    print('Finished adding subj ', i+1)\n",
    "\n",
    "mdx = {'X_all': Xall}\n",
    "mdy = {'Y_all': Yall}\n",
    "mdl = {'L_all': Lall}\n",
    "scipy.io.savemat('X_all_preprocessed.mat', mdx)\n",
    "scipy.io.savemat('Y_all_preprocessed.mat', mdy)\n",
    "scipy.io.savemat('Labels_all_preprocessed.mat', mdl)\n",
    "if RT_Present:\n",
    "    mdRT = {'RT_all' : RTall}\n",
    "    scipy.io.savemat('Rt_all_preprocessed.mat', mdRT)"
   ],
   "metadata": {
    "collapsed": false,
    "pycharm": {
     "name": "#%%\n"
    }
   }
  },
  {
   "cell_type": "code",
   "execution_count": null,
   "outputs": [],
   "source": [],
   "metadata": {
    "collapsed": false,
    "pycharm": {
     "name": "#%%\n"
    }
   }
  }
 ],
 "metadata": {
  "kernelspec": {
   "display_name": "Python 3",
   "language": "python",
   "name": "python3"
  },
  "language_info": {
   "codemirror_mode": {
    "name": "ipython",
    "version": 2
   },
   "file_extension": ".py",
   "mimetype": "text/x-python",
   "name": "python",
   "nbconvert_exporter": "python",
   "pygments_lexer": "ipython2",
   "version": "2.7.6"
  }
 },
 "nbformat": 4,
 "nbformat_minor": 0
}