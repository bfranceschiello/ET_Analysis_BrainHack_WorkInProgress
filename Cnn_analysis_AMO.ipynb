{
 "cells": [
  {
   "cell_type": "code",
   "execution_count": 2,
   "metadata": {},
   "outputs": [],
   "source": [
    "from keras.models import Sequential\n",
    "from keras.layers import Conv2D, Dense, Dropout, Flatten, MaxPooling2D\n",
    "from keras.utils import np_utils\n",
    "#from keras.optimizers import SGD\n",
    "from itertools import permutations\n",
    "import numpy as np\n",
    "import scipy.io\n",
    "import pandas as pd\n",
    "import random\n",
    "import scipy.stats\n",
    "from sklearn import metrics\n",
    "from sklearn import svm\n",
    "from sklearn.cluster import KMeans\n",
    "import seaborn as sns\n",
    "from matplotlib import pyplot as plt"
   ]
  },
  {
   "cell_type": "code",
   "execution_count": 3,
   "metadata": {},
   "outputs": [],
   "source": [
    "#load matlab files\n",
    "Xd=scipy.io.loadmat(r'/Volumes/GoogleDrive/My Drive/2_TeamWork_VisualNeglect/X_all.mat')\n",
    "y=scipy.io.loadmat(r'/Volumes/GoogleDrive/My Drive/2_TeamWork_VisualNeglect/Y_p.mat')\n",
    "subjID = scipy.io.loadmat(r'/Volumes/GoogleDrive/My Drive/2_TeamWork_VisualNeglect/ID_Tr.mat')\n",
    "\n",
    "X=Xd[\"X_all\"]\n",
    "y=y[\"Y_p\"]\n",
    "ID = subjID['ID_Tr']\n",
    "\n",
    "y=np.squeeze(y)\n",
    "\n",
    "dimX=np.shape(X)\n",
    "dimy=np.shape(y)"
   ]
  },
  {
   "cell_type": "code",
   "execution_count": 4,
   "outputs": [],
   "source": [
    "#perform normalisation\n",
    "normalisedX = scipy.stats.zscore(X, axis=1)"
   ],
   "metadata": {
    "collapsed": false,
    "pycharm": {
     "name": "#%%\n"
    }
   }
  },
  {
   "cell_type": "code",
   "execution_count": 5,
   "outputs": [],
   "source": [
    "#create a dataframe with experimental data\n",
    "trajectories_df = pd.DataFrame(normalisedX)\n",
    "trajectories_df['y'] = y\n",
    "trajectories_df['ID'] = ID"
   ],
   "metadata": {
    "collapsed": false,
    "pycharm": {
     "name": "#%%\n"
    }
   }
  },
  {
   "cell_type": "code",
   "execution_count": 6,
   "outputs": [],
   "source": [
    "#get a list of all possible subject IDs\n",
    "list_ID = [elem[0] for elem in list(ID)]\n",
    "list_ID = list(set(list_ID))"
   ],
   "metadata": {
    "collapsed": false,
    "pycharm": {
     "name": "#%%\n"
    }
   }
  },
  {
   "cell_type": "code",
   "execution_count": 7,
   "outputs": [],
   "source": [
    "#split train and test set - create 20 sets\n",
    "subject_sample_size = len(list_ID)\n",
    "#random.seed(14)\n",
    "TTsets = []\n",
    "for i in range(0, 20):\n",
    "    p  = 0.8\n",
    "    how_many_subjects = int(0.8*subject_sample_size)\n",
    "    train_sample_subj = random.sample(sorted(list_ID), how_many_subjects)\n",
    "    test_sample_subj =  [subject for subject in list_ID if subject not in train_sample_subj]\n",
    "\n",
    "    train_df = trajectories_df[trajectories_df['ID'].isin(train_sample_subj)]\n",
    "    test_df = trajectories_df[trajectories_df['ID'].isin(test_sample_subj)]\n",
    "    \n",
    "    #convert to np.arrays\n",
    "    train_y = np.array(trajectories_df[trajectories_df['ID'].isin(train_sample_subj)]['y'])\n",
    "    test_y = np.array(trajectories_df[trajectories_df['ID'].isin(test_sample_subj)]['y'])\n",
    "    \n",
    "    train_arr = np.array(train_df)[:,:-2]\n",
    "    test_arr = np.array(test_df)[:,:-2]\n",
    "    \n",
    "    TTsets.append([train_arr, train_y, test_arr, test_y])"
   ],
   "metadata": {
    "collapsed": false,
    "pycharm": {
     "name": "#%%\n"
    }
   }
  },
  {
   "cell_type": "code",
   "execution_count": null,
   "outputs": [],
   "source": [
    "#try K-means or SVM - simpler machine learning techniques\n",
    "#K - means\n",
    "kmeans_fit = KMeans(\n",
    "    init = 'random',\n",
    "    n_clusters = 2,\n",
    "    n_init = 10,\n",
    "    max_iter =  300,\n",
    "    random_state=42\n",
    ").fit(normalisedX)\n",
    "#update ground truth labels so they match the classifier labels\n",
    "labels_trans = np.copy(y)\n",
    "labels_trans[labels_trans == -1] = 0\n",
    "#calculate accuracy\n",
    "metrics.accuracy_score(labels_trans, kmeans_fit.labels_)"
   ],
   "metadata": {
    "collapsed": false,
    "pycharm": {
     "name": "#%%\n"
    }
   }
  },
  {
   "cell_type": "code",
   "execution_count": 192,
   "outputs": [],
   "source": [
    "accuracies = []\n",
    "for TTset in TTsets:\n",
    "    \n",
    "    #train\n",
    "    Xtr=TTset[0]\n",
    "    ytr=TTset[1]\n",
    "    \n",
    "    #test\n",
    "    Xts=TTset[2]\n",
    "    yts=TTset[3]\n",
    "    \n",
    "    #get the dimensionality\n",
    "    dimXtr=np.shape(Xtr)\n",
    "    dimytr=np.shape(ytr)\n",
    "    \n",
    "    dimXts=np.shape(Xts)\n",
    "    dimyts=np.shape(yts)\n",
    "    \n",
    "    #SVM\n",
    "    clf = svm.SVC(kernel = 'poly')\n",
    "    clf.fit(Xtr, ytr)\n",
    "\n",
    "    labels_svm = clf.predict(Xts)\n",
    "    \n",
    "    #calculate accuracy\n",
    "    accuracies.append(metrics.accuracy_score(yts, labels_svm))\n",
    "    \n",
    "print('Mean SVM accuracy:', np.mean(accuracies), 'stdev:', np.std(accuracies) )"
   ],
   "metadata": {
    "collapsed": false,
    "pycharm": {
     "name": "#%%\n"
    }
   }
  },
  {
   "cell_type": "code",
   "execution_count": 11,
   "outputs": [
    {
     "data": {
      "text/plain": "<Figure size 864x216 with 1 Axes>",
      "image/png": "[encoded data removed]"
     },
     "metadata": {},
     "output_type": "display_data"
    }
   ],
   "source": [
    "#visualise the outcomes of the kmeans classification\n",
    "sns.set_style('white')\n",
    "f, ax = plt.subplots(figsize = (12, 3))\n",
    "\n",
    "#data for plotting\n",
    "xplot = pd.DataFrame(labels_trans).index\n",
    "y1plot = labels_trans\n",
    "y2plot = kmeans_fit.labels_\n",
    "\n",
    "#plot the ground truth in red\n",
    "sns.scatterplot(x = xplot, y = y1plot, color = 'red', alpha = .05)\n",
    "#plot the classifier outcome in blue\n",
    "sns.scatterplot(x = xplot, y = y2plot, color = 'blue', alpha = .05)\n",
    "#pinkish-purple is the overlap\n",
    "sns.despine()"
   ],
   "metadata": {
    "collapsed": false,
    "pycharm": {
     "name": "#%%\n"
    }
   }
  },
  {
   "cell_type": "code",
   "execution_count": 205,
   "outputs": [
    {
     "data": {
      "text/plain": "<Figure size 864x216 with 1 Axes>",
      "image/png": "[encoded data removed]"
     },
     "metadata": {},
     "output_type": "display_data"
    }
   ],
   "source": [
    "#plot the performance of the last svm classifier\n",
    "sns.set_style('white')\n",
    "f, ax = plt.subplots(figsize = (12, 3))\n",
    "\n",
    "#data to plot\n",
    "xplot = pd.DataFrame(yts).index\n",
    "y1plot = yts\n",
    "y2plot = labels_svm\n",
    "\n",
    "#plot ground truth in red\n",
    "sns.scatterplot(x = xplot, y = y1plot, color = 'red', alpha = .05)\n",
    "#plot classifier in blue\n",
    "sns.scatterplot(x = xplot, y = y2plot, color = 'blue', alpha = .05)\n",
    "#pinkish-purple is the overlap\n",
    "sns.despine()"
   ],
   "metadata": {
    "collapsed": false,
    "pycharm": {
     "name": "#%%\n"
    }
   }
  },
  {
   "cell_type": "code",
   "execution_count": null,
   "outputs": [],
   "source": [
    "# process the data to fit in a keras CNN properly\n",
    "# input data needs to be (N, C, X, Y) - shaped where\n",
    "# N - number of samples\n",
    "# C - number of channels per sample\n",
    "# (X, Y) - sample size\n",
    "\n",
    "Xtr_reshaped = Xtr.reshape((dimXtr[0], 1, dimXtr[1], 1))\n",
    "Xts_reshaped = Xts.reshape((dimXts[0], 1, dimXts[1], 1))\n",
    "\n",
    "#categorical lebels\n",
    "ytr_cat = np_utils.to_categorical(ytr)\n",
    "yts_cat = np_utils.to_categorical(yts)"
   ],
   "metadata": {
    "collapsed": false,
    "pycharm": {
     "name": "#%%\n"
    }
   }
  },
  {
   "cell_type": "code",
   "execution_count": 58,
   "metadata": {},
   "outputs": [
    {
     "name": "stderr",
     "output_type": "stream",
     "text": [
      "2022-03-27 11:12:43.441306: I tensorflow/core/platform/cpu_feature_guard.cc:151] This TensorFlow binary is optimized with oneAPI Deep Neural Network Library (oneDNN) to use the following CPU instructions in performance-critical operations:  AVX2 FMA\n",
      "To enable them in other operations, rebuild TensorFlow with the appropriate compiler flags.\n"
     ]
    }
   ],
   "source": [
    "# define a CNN\n",
    "\n",
    "cnnbene = Sequential()\n",
    "\n",
    "#2 conv layers\n",
    "cnnbene.add(Conv2D(64, (3, 1),activation=\"relu\",input_shape=(1, dimXtr[1], 1),padding=\"same\"))\n",
    "cnnbene.add(Conv2D(64, (3, 1), activation=\"relu\",padding=\"same\"))\n",
    "\n",
    "#1max pooling layer\n",
    "cnnbene.add(MaxPooling2D(pool_size=(2, 1), data_format=\"channels_first\"))\n",
    "\n",
    "#3conv layers\n",
    "cnnbene.add(Conv2D(128, (3, 1), activation=\"relu\",padding=\"same\"))\n",
    "cnnbene.add(Conv2D(128, (3, 1), activation=\"relu\",padding=\"same\"))\n",
    "cnnbene.add(Conv2D(128, (3, 1), activation=\"relu\",padding=\"same\"))\n",
    "\n",
    "#1max pooling layer\n",
    "cnnbene.add(MaxPooling2D(pool_size=(2, 1), data_format=\"channels_first\"))\n",
    "\n",
    "#3 conv layers\n",
    "cnnbene.add(Conv2D(256, (3, 1), activation=\"relu\",padding=\"same\"))\n",
    "cnnbene.add(Conv2D(256, (3, 1), activation=\"relu\",padding=\"same\"))\n",
    "cnnbene.add(Conv2D(256, (3, 1), activation=\"relu\",padding=\"same\"))\n",
    "\n",
    "#1 max pooling layer\n",
    "cnnbene.add(MaxPooling2D(pool_size=(2, 1), data_format=\"channels_first\"))\n",
    "\n",
    "#2 fully connected layer with dropout regularization \n",
    "cnnbene.add(Flatten())\n",
    "cnnbene.add(Dense(1024, activation=\"relu\"))\n",
    "cnnbene.add(Dropout(0.5))\n",
    "cnnbene.add(Dense(2, activation=\"softmax\"))"
   ]
  },
  {
   "cell_type": "code",
   "execution_count": null,
   "metadata": {},
   "outputs": [],
   "source": [
    "# define optimizer and objective, compile cnn\n",
    "cnnbene.compile(loss=\"categorical_crossentropy\", optimizer='adagrad', metrics=['accuracy'])"
   ]
  },
  {
   "cell_type": "code",
   "execution_count": null,
   "metadata": {},
   "outputs": [],
   "source": [
    "#sgd = SGD(lr=0.1, decay=1e-6, momentum=1, nesterov=True)\n",
    "#cnnbene.compile(loss='categorical_crossentropy',\n",
    "#              optimizer=sgd,\n",
    "#              metrics=['accuracy'])"
   ]
  },
  {
   "cell_type": "code",
   "execution_count": null,
   "metadata": {},
   "outputs": [],
   "source": [
    "# train\n",
    "history=cnnbene.fit(Xtr, ytr, validation_data=(Xts,yts), epochs=15,verbose=2, validation_split=0.2)"
   ]
  },
  {
   "cell_type": "code",
   "execution_count": null,
   "metadata": {
    "scrolled": false
   },
   "outputs": [],
   "source": [
    "print(history.history.keys())\n",
    "# summarize history for accuracy\n",
    "plt.plot(history.history['accuracy'])\n",
    "plt.plot(history.history['val_accuracy'])\n",
    "plt.title('model accuracy')\n",
    "plt.ylabel('accuracy')\n",
    "plt.xlabel('epoch')\n",
    "plt.legend(['train', 'test'], loc='upper left')\n",
    "plt.show()\n",
    "# summarize history for loss\n",
    "plt.plot(history.history['loss'])\n",
    "plt.plot(history.history['val_loss'])\n",
    "plt.title('model loss')\n",
    "plt.ylabel('loss')\n",
    "plt.xlabel('epoch')\n",
    "plt.legend(['train', 'test'], loc='upper left')\n",
    "plt.show()"
   ]
  },
  {
   "cell_type": "code",
   "execution_count": null,
   "metadata": {},
   "outputs": [],
   "source": [
    "# for i in range(12):\n",
    "#         indx=np.squeeze(np.argwhere(ytspat==i+1))\n",
    "#         score = cnnbene.evaluate(Xts[indx,:,:,:], yts[indx])\n",
    "#         print('Mean score', i+1,np.mean(score))"
   ]
  },
  {
   "cell_type": "code",
   "execution_count": null,
   "metadata": {},
   "outputs": [],
   "source": [
    "# for i in range(12):\n",
    "#     a=len(np.argwhere(ytspat==i+1))\n",
    "#     print(a)"
   ]
  },
  {
   "cell_type": "code",
   "execution_count": null,
   "metadata": {},
   "outputs": [],
   "source": [
    "#from keras.models import load_model\n",
    "\n",
    "#model.save('cnnbene')\n",
    "\n",
    "\n",
    "#cnnbene.save('cnnft.h5')  # creates a HDF5 file 'my_model.h5'\n",
    "\n"
   ]
  },
  {
   "cell_type": "code",
   "execution_count": null,
   "metadata": {
    "pycharm": {
     "name": "#%%\n"
    }
   },
   "outputs": [],
   "source": [
    "history.history['accuracy']\n",
    "\n"
   ]
  }
 ],
 "metadata": {
  "kernelspec": {
   "display_name": "Python 3",
   "language": "python",
   "name": "python3"
  },
  "language_info": {
   "codemirror_mode": {
    "name": "ipython",
    "version": 3
   },
   "file_extension": ".py",
   "mimetype": "text/x-python",
   "name": "python",
   "nbconvert_exporter": "python",
   "pygments_lexer": "ipython3",
   "version": "3.7.10"
  }
 },
 "nbformat": 4,
 "nbformat_minor": 2
}