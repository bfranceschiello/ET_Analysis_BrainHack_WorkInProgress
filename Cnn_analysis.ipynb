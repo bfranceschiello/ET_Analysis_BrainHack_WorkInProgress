{
 "cells": [
  {
   "cell_type": "code",
   "execution_count": 1,
   "metadata": {},
   "outputs": [],
   "source": [
    "from keras.models import Sequential\n",
    "from keras.layers import Conv2D, Dense, Dropout, Flatten, MaxPooling2D\n",
    "from keras.utils import np_utils\n",
    "import matplotlib.pyplot as plt\n",
    "#from keras.optimizers import SGD\n",
    "from itertools import permutations\n",
    "import numpy as np\n",
    "import scipy.io\n",
    "import pandas as pd\n",
    "import random"
   ]
  },
  {
   "cell_type": "code",
   "execution_count": 2,
   "metadata": {},
   "outputs": [],
   "source": [
    "#load matlab files\n",
    "\n",
    "Xd=scipy.io.loadmat(r'G:\\.shortcut-targets-by-id\\1GP7DKWJranQy6jycoCLbBHoyU1gq8cLp\\2_TeamWork_VisualNeglect\\X_all.mat')\n",
    "y=scipy.io.loadmat(r'G:\\.shortcut-targets-by-id\\1GP7DKWJranQy6jycoCLbBHoyU1gq8cLp\\2_TeamWork_VisualNeglect\\Y_p.mat')\n",
    "subjID=scipy.io.loadmat(r'G:\\.shortcut-targets-by-id\\1GP7DKWJranQy6jycoCLbBHoyU1gq8cLp\\2_TeamWork_VisualNeglect\\ID_Tr.mat')\n",
    "\n",
    "X=Xd[\"X_all\"]\n",
    "y=y[\"Y_p\"]\n",
    "ID=subjID['ID_Tr']\n",
    "\n",
    "y=np.squeeze(y)\n",
    "\n",
    "dimX=np.shape(X)\n",
    "dimy=np.shape(y)\n"
   ]
  },
  {
   "cell_type": "code",
   "execution_count": 10,
   "outputs": [],
   "source": [
    "import scipy.stats"
   ],
   "metadata": {
    "collapsed": false,
    "pycharm": {
     "name": "#%%\n"
    }
   }
  },
  {
   "cell_type": "code",
   "execution_count": 13,
   "outputs": [],
   "source": [
    "normalisedX = scipy.stats.zscore(X, axis=1)"
   ],
   "metadata": {
    "collapsed": false,
    "pycharm": {
     "name": "#%%\n"
    }
   }
  },
  {
   "cell_type": "code",
   "execution_count": 4,
   "outputs": [],
   "source": [
    "trajectories_df=pd.DataFrame(normalisedX)\n",
    "means = trajectories_df.mean(axis=1)\n",
    "\n",
    "stds = trajectories_df.std(axis=1)\n",
    "trajectories_df = (trajectories_df - means) / stds\n",
    "trajectories_df['y']=y\n",
    "trajectories_df['ID']=ID"
   ],
   "metadata": {
    "collapsed": false,
    "pycharm": {
     "name": "#%%\n"
    }
   }
  },
  {
   "cell_type": "code",
   "execution_count": 35,
   "outputs": [],
   "source": [
    "list_ID = [elem[0] for elem in list(ID)]\n",
    "list_ID = list(set(list_ID))"
   ],
   "metadata": {
    "collapsed": false,
    "pycharm": {
     "name": "#%%\n"
    }
   }
  },
  {
   "cell_type": "code",
   "execution_count": 36,
   "outputs": [],
   "source": [
    "subject_sample_size = len(list_ID)\n",
    "np.random.seed(14)\n",
    "p = 0.8\n",
    "how_many_subjects = int(0.8*subject_sample_size)\n",
    "train_sample_subj = random.sample(sorted(list_ID), how_many_subjects)\n",
    "test_sample_subj = [subject for subject in list_ID if subject not in train_sample_subj]"
   ],
   "metadata": {
    "collapsed": false,
    "pycharm": {
     "name": "#%%\n"
    }
   }
  },
  {
   "cell_type": "code",
   "execution_count": 33,
   "outputs": [],
   "source": [
    "#train_index = np.isin(ID, train_sample_subj)\n",
    "#test_index = np.isin(ID, test_sample_subj)"
   ],
   "metadata": {
    "collapsed": false,
    "pycharm": {
     "name": "#%%\n"
    }
   }
  },
  {
   "cell_type": "code",
   "execution_count": 47,
   "outputs": [],
   "source": [
    "train_df = trajectories_df[trajectories_df['ID'].isin(train_sample_subj)]\n",
    "test_df = trajectories_df[trajectories_df['ID'].isin(test_sample_subj)]\n",
    "train_arr = np.array(train_df)[:,:-2]\n",
    "test_arr = np.array(test_df)[:,:-2]"
   ],
   "metadata": {
    "collapsed": false,
    "pycharm": {
     "name": "#%%\n"
    }
   }
  },
  {
   "cell_type": "code",
   "execution_count": 13,
   "metadata": {},
   "outputs": [],
   "source": [
    "#train\n",
    "Xtr=train_arr\n",
    "ytr=train_df\n",
    "\n",
    "#test\n",
    "Xts=test_arr\n",
    "yts=test_df\n",
    "\n",
    "#get the dimensionality\n",
    "\n",
    "dimXtr=np.shape(Xtr)\n",
    "dimytr=np.shape(ytr)\n",
    "\n",
    "dimXts=np.shape(Xts)\n",
    "dimyts=np.shape(yts)"
   ]
  },
  {
   "cell_type": "code",
   "execution_count": null,
   "outputs": [],
   "source": [],
   "metadata": {
    "collapsed": false,
    "pycharm": {
     "name": "#%%\n"
    }
   }
  },
  {
   "cell_type": "code",
   "execution_count": 14,
   "metadata": {},
   "outputs": [],
   "source": [
    "# process the data to fit in a keras CNN properly\n",
    "# input data needs to be (N, C, X, Y) - shaped where\n",
    "# N - number of samples\n",
    "# C - number of channels per sample\n",
    "# (X, Y) - sample size\n",
    "\n",
    "Xtr = Xtr.reshape((dimXtr[0], 1, dimXtr[1], 1))\n",
    "Xts = Xts.reshape((dimXts[0], 1, dimXts[1], 1))\n",
    "\n",
    "#categorical lebels\n",
    "ytr = np_utils.to_categorical(ytr)\n",
    "yts = np_utils.to_categorical(yts)\n"
   ]
  },
  {
   "cell_type": "code",
   "source": [
    "# try K-means\n",
    "from sklearn.cluster import KMeans\n",
    "kmeans = KMeans(\n",
    "    init='random',\n",
    "    n_clusters=2,\n",
    "    n_init=10,\n",
    "    max_iter=300,\n",
    "    random_state=42\n",
    ").fit_predict(normalisedX)\n"
   ],
   "metadata": {
    "collapsed": false,
    "pycharm": {
     "name": "#%%\n"
    }
   },
   "execution_count": null,
   "outputs": []
  },
  {
   "cell_type": "code",
   "execution_count": 61,
   "outputs": [
    {
     "ename": "AttributeError",
     "evalue": "'numpy.ndarray' object has no attribute 'predict'",
     "output_type": "error",
     "traceback": [
      "\u001B[1;31m---------------------------------------------------------------------------\u001B[0m",
      "\u001B[1;31mAttributeError\u001B[0m                            Traceback (most recent call last)",
      "Input \u001B[1;32mIn [61]\u001B[0m, in \u001B[0;36m<cell line: 1>\u001B[1;34m()\u001B[0m\n\u001B[1;32m----> 1\u001B[0m y_kmeans \u001B[38;5;241m=\u001B[39m \u001B[43mkmeans\u001B[49m\u001B[38;5;241;43m.\u001B[39;49m\u001B[43mpredict\u001B[49m(normalisedX)\n",
      "\u001B[1;31mAttributeError\u001B[0m: 'numpy.ndarray' object has no attribute 'predict'"
     ]
    }
   ],
   "source": [
    "y_kmeans = kmeans.predict(normalisedX)"
   ],
   "metadata": {
    "collapsed": false,
    "pycharm": {
     "name": "#%%\n"
    }
   }
  },
  {
   "cell_type": "code",
   "execution_count": 48,
   "outputs": [
    {
     "data": {
      "text/plain": "array([0, 1, 0, ..., 0, 0, 0])"
     },
     "execution_count": 48,
     "metadata": {},
     "output_type": "execute_result"
    }
   ],
   "source": [
    "kmeans"
   ],
   "metadata": {
    "collapsed": false,
    "pycharm": {
     "name": "#%%\n"
    }
   }
  },
  {
   "cell_type": "code",
   "execution_count": 45,
   "outputs": [
    {
     "data": {
      "text/plain": "(1738,)"
     },
     "execution_count": 45,
     "metadata": {},
     "output_type": "execute_result"
    }
   ],
   "source": [
    "kmeans.shape"
   ],
   "metadata": {
    "collapsed": false,
    "pycharm": {
     "name": "#%%\n"
    }
   }
  },
  {
   "cell_type": "code",
   "execution_count": 34,
   "outputs": [],
   "source": [
    "labels_trans = np.copy(y)"
   ],
   "metadata": {
    "collapsed": false,
    "pycharm": {
     "name": "#%%\n"
    }
   }
  },
  {
   "cell_type": "code",
   "execution_count": 35,
   "outputs": [],
   "source": [
    "labels_trans[labels_trans == -1] = 0"
   ],
   "metadata": {
    "collapsed": false,
    "pycharm": {
     "name": "#%%\n"
    }
   }
  },
  {
   "cell_type": "code",
   "execution_count": 38,
   "outputs": [
    {
     "data": {
      "text/plain": "array([1, 1, 1, ..., 0, 0, 0], dtype=int16)"
     },
     "execution_count": 38,
     "metadata": {},
     "output_type": "execute_result"
    }
   ],
   "source": [
    "labels_trans"
   ],
   "metadata": {
    "collapsed": false,
    "pycharm": {
     "name": "#%%\n"
    }
   }
  },
  {
   "cell_type": "code",
   "execution_count": 36,
   "outputs": [],
   "source": [
    "diff = kmeans - labels_trans"
   ],
   "metadata": {
    "collapsed": false,
    "pycharm": {
     "name": "#%%\n"
    }
   }
  },
  {
   "cell_type": "code",
   "execution_count": 37,
   "outputs": [
    {
     "data": {
      "text/plain": "0.9090909090909091"
     },
     "execution_count": 37,
     "metadata": {},
     "output_type": "execute_result"
    }
   ],
   "source": [
    "1 - abs(np.sum(diff)/len(labels_trans))"
   ],
   "metadata": {
    "collapsed": false,
    "pycharm": {
     "name": "#%%\n"
    }
   }
  },
  {
   "cell_type": "code",
   "execution_count": 56,
   "outputs": [
    {
     "data": {
      "text/plain": "<Figure size 432x288 with 1 Axes>",
      "image/png": "[encoded data removed]"
     },
     "metadata": {
      "needs_background": "light"
     },
     "output_type": "display_data"
    }
   ],
   "source": [
    "filtered_label0 = normalisedX[kmeans == 0]\n",
    "\n",
    "filtered_label1 = normalisedX[kmeans == 1]\n",
    "\n",
    "plt.scatter(filtered_label0[:,0] , filtered_label0[:,1] , color = 'red')\n",
    "plt.show()"
   ],
   "metadata": {
    "collapsed": false,
    "pycharm": {
     "name": "#%%\n"
    }
   }
  },
  {
   "cell_type": "code",
   "execution_count": null,
   "outputs": [],
   "source": [
    "centroids = kmeans.cluster_centers_"
   ],
   "metadata": {
    "collapsed": false,
    "pycharm": {
     "name": "#%%\n",
     "is_executing": true
    }
   }
  },
  {
   "cell_type": "code",
   "execution_count": 57,
   "outputs": [
    {
     "data": {
      "text/plain": "<Figure size 432x288 with 1 Axes>",
      "image/png": "[encoded data removed]"
     },
     "metadata": {
      "needs_background": "light"
     },
     "output_type": "display_data"
    }
   ],
   "source": [
    "plt.scatter(filtered_label1[:,0] , filtered_label1[:,1] , color = 'green')\n",
    "plt.show()"
   ],
   "metadata": {
    "collapsed": false,
    "pycharm": {
     "name": "#%%\n"
    }
   }
  },
  {
   "cell_type": "code",
   "execution_count": 15,
   "metadata": {},
   "outputs": [],
   "source": [
    "# define a CNN\n",
    "\n",
    "cnnbene = Sequential()\n",
    "\n",
    "#2 conv layers\n",
    "cnnbene.add(Conv2D(64, (3, 1),activation=\"relu\",input_shape=(1, dimXtr[1], 1),padding=\"same\"))\n",
    "cnnbene.add(Conv2D(64, (3, 1), activation=\"relu\",padding=\"same\"))\n",
    "\n",
    "#1max pooling layer\n",
    "cnnbene.add(MaxPooling2D(pool_size=(2, 1), data_format=\"channels_first\"))\n",
    "\n",
    "#3conv layers\n",
    "cnnbene.add(Conv2D(128, (3, 1), activation=\"relu\",padding=\"same\"))\n",
    "cnnbene.add(Conv2D(128, (3, 1), activation=\"relu\",padding=\"same\"))\n",
    "cnnbene.add(Conv2D(128, (3, 1), activation=\"relu\",padding=\"same\"))\n",
    "\n",
    "#1max pooling layer\n",
    "cnnbene.add(MaxPooling2D(pool_size=(2, 1), data_format=\"channels_first\"))\n",
    "\n",
    "#3 conv layers\n",
    "cnnbene.add(Conv2D(256, (3, 1), activation=\"relu\",padding=\"same\"))\n",
    "cnnbene.add(Conv2D(256, (3, 1), activation=\"relu\",padding=\"same\"))\n",
    "cnnbene.add(Conv2D(256, (3, 1), activation=\"relu\",padding=\"same\"))\n",
    "\n",
    "#1 max pooling layer\n",
    "cnnbene.add(MaxPooling2D(pool_size=(2, 1), data_format=\"channels_first\"))\n",
    "\n",
    "#2 fully connected layer with dropout regularization \n",
    "cnnbene.add(Flatten())\n",
    "cnnbene.add(Dense(1024, activation=\"relu\"))\n",
    "cnnbene.add(Dropout(0.5))\n",
    "cnnbene.add(Dense(2, activation=\"softmax\"))\n",
    "\n"
   ]
  },
  {
   "cell_type": "code",
   "execution_count": 16,
   "metadata": {},
   "outputs": [],
   "source": [
    "# define optimizer and objective, compile cnn\n",
    "cnnbene.compile(loss=\"categorical_crossentropy\", optimizer='adagrad', metrics=['accuracy'])"
   ]
  },
  {
   "cell_type": "code",
   "execution_count": 17,
   "metadata": {},
   "outputs": [],
   "source": [
    "#sgd = SGD(lr=0.1, decay=1e-6, momentum=1, nesterov=True)\n",
    "#cnnbene.compile(loss='categorical_crossentropy',\n",
    "#              optimizer=sgd,\n",
    "#              metrics=['accuracy'])"
   ]
  },
  {
   "cell_type": "code",
   "execution_count": null,
   "metadata": {
    "pycharm": {
     "is_executing": true
    }
   },
   "outputs": [],
   "source": [
    "# train\n",
    "history=cnnbene.fit(Xtr, ytr, validation_data=(Xts,yts), epochs=15,verbose=2, validation_split=0.2)\n"
   ]
  },
  {
   "cell_type": "code",
   "execution_count": null,
   "metadata": {
    "scrolled": false
   },
   "outputs": [],
   "source": [
    "print(history.history.keys())\n",
    "# summarize history for accuracy\n",
    "plt.plot(history.history['accuracy'])\n",
    "plt.plot(history.history['val_accuracy'])\n",
    "plt.title('model accuracy')\n",
    "plt.ylabel('accuracy')\n",
    "plt.xlabel('epoch')\n",
    "plt.legend(['train', 'test'], loc='upper left')\n",
    "plt.show()\n",
    "# summarize history for loss\n",
    "plt.plot(history.history['loss'])\n",
    "plt.plot(history.history['val_loss'])\n",
    "plt.title('model loss')\n",
    "plt.ylabel('loss')\n",
    "plt.xlabel('epoch')\n",
    "plt.legend(['train', 'test'], loc='upper left')\n",
    "plt.show()"
   ]
  },
  {
   "cell_type": "code",
   "execution_count": null,
   "metadata": {},
   "outputs": [],
   "source": [
    "#from keras.models import load_model\n",
    "\n",
    "#model.save('cnnbene')\n",
    "\n",
    "\n",
    "#cnnbene.save('cnnft.h5')  # creates a HDF5 file 'my_model.h5'\n",
    "\n"
   ]
  },
  {
   "cell_type": "code",
   "execution_count": null,
   "metadata": {},
   "outputs": [],
   "source": [
    "history.history['accuracy']\n",
    "\n"
   ]
  },
  {
   "cell_type": "code",
   "execution_count": null,
   "metadata": {},
   "outputs": [],
   "source": []
  }
 ],
 "metadata": {
  "kernelspec": {
   "display_name": "Python 3",
   "language": "python",
   "name": "python3"
  },
  "language_info": {
   "codemirror_mode": {
    "name": "ipython",
    "version": 3
   },
   "file_extension": ".py",
   "mimetype": "text/x-python",
   "name": "python",
   "nbconvert_exporter": "python",
   "pygments_lexer": "ipython3",
   "version": "3.7.10"
  }
 },
 "nbformat": 4,
 "nbformat_minor": 2
}