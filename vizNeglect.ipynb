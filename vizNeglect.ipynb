{
 "cells": [
  {
   "cell_type": "code",
   "execution_count": 2,
   "metadata": {
    "collapsed": true
   },
   "outputs": [],
   "source": [
    "import scipy.io\n",
    "import os\n",
    "import os.path as op\n",
    "import numpy as np\n",
    "import pandas as pd\n",
    "from sklearn.impute import KNNImputer"
   ]
  },
  {
   "cell_type": "code",
   "execution_count": 3,
   "outputs": [],
   "source": [
    "p = '/Volumes/GoogleDrive/.shortcut-targets-by-id/1GP7DKWJranQy6jycoCLbBHoyU1gq8cLp/2_TeamWork_VisualNeglect/1_Dataset'"
   ],
   "metadata": {
    "collapsed": false,
    "pycharm": {
     "name": "#%%\n"
    }
   }
  },
  {
   "cell_type": "code",
   "execution_count": 4,
   "outputs": [],
   "source": [
    "Dataset_folder = sorted([ f.path for f in os.scandir(p) if '.mat' in f.name ])"
   ],
   "metadata": {
    "collapsed": false,
    "pycharm": {
     "name": "#%%\n"
    }
   }
  },
  {
   "cell_type": "code",
   "execution_count": 54,
   "outputs": [
    {
     "data": {
      "text/plain": "['/Volumes/GoogleDrive/.shortcut-targets-by-id/1GP7DKWJranQy6jycoCLbBHoyU1gq8cLp/2_TeamWork_VisualNeglect/1_Dataset/Trajectory10_Healthy.mat',\n '/Volumes/GoogleDrive/.shortcut-targets-by-id/1GP7DKWJranQy6jycoCLbBHoyU1gq8cLp/2_TeamWork_VisualNeglect/1_Dataset/Trajectory11_Healthy.mat',\n '/Volumes/GoogleDrive/.shortcut-targets-by-id/1GP7DKWJranQy6jycoCLbBHoyU1gq8cLp/2_TeamWork_VisualNeglect/1_Dataset/Trajectory11_Patient.mat',\n '/Volumes/GoogleDrive/.shortcut-targets-by-id/1GP7DKWJranQy6jycoCLbBHoyU1gq8cLp/2_TeamWork_VisualNeglect/1_Dataset/Trajectory13_Patient.mat',\n '/Volumes/GoogleDrive/.shortcut-targets-by-id/1GP7DKWJranQy6jycoCLbBHoyU1gq8cLp/2_TeamWork_VisualNeglect/1_Dataset/Trajectory19_Patient.mat',\n '/Volumes/GoogleDrive/.shortcut-targets-by-id/1GP7DKWJranQy6jycoCLbBHoyU1gq8cLp/2_TeamWork_VisualNeglect/1_Dataset/Trajectory22_Patient.mat',\n '/Volumes/GoogleDrive/.shortcut-targets-by-id/1GP7DKWJranQy6jycoCLbBHoyU1gq8cLp/2_TeamWork_VisualNeglect/1_Dataset/Trajectory23_Patient.mat',\n '/Volumes/GoogleDrive/.shortcut-targets-by-id/1GP7DKWJranQy6jycoCLbBHoyU1gq8cLp/2_TeamWork_VisualNeglect/1_Dataset/Trajectory24_Patient.mat',\n '/Volumes/GoogleDrive/.shortcut-targets-by-id/1GP7DKWJranQy6jycoCLbBHoyU1gq8cLp/2_TeamWork_VisualNeglect/1_Dataset/Trajectory2_Healthy.mat',\n '/Volumes/GoogleDrive/.shortcut-targets-by-id/1GP7DKWJranQy6jycoCLbBHoyU1gq8cLp/2_TeamWork_VisualNeglect/1_Dataset/Trajectory2_Patient.mat',\n '/Volumes/GoogleDrive/.shortcut-targets-by-id/1GP7DKWJranQy6jycoCLbBHoyU1gq8cLp/2_TeamWork_VisualNeglect/1_Dataset/Trajectory3_Healthy.mat',\n '/Volumes/GoogleDrive/.shortcut-targets-by-id/1GP7DKWJranQy6jycoCLbBHoyU1gq8cLp/2_TeamWork_VisualNeglect/1_Dataset/Trajectory3_Patient.mat',\n '/Volumes/GoogleDrive/.shortcut-targets-by-id/1GP7DKWJranQy6jycoCLbBHoyU1gq8cLp/2_TeamWork_VisualNeglect/1_Dataset/Trajectory4_Healthy.mat',\n '/Volumes/GoogleDrive/.shortcut-targets-by-id/1GP7DKWJranQy6jycoCLbBHoyU1gq8cLp/2_TeamWork_VisualNeglect/1_Dataset/Trajectory6_Healthy.mat',\n '/Volumes/GoogleDrive/.shortcut-targets-by-id/1GP7DKWJranQy6jycoCLbBHoyU1gq8cLp/2_TeamWork_VisualNeglect/1_Dataset/Trajectory7_Healthy.mat',\n '/Volumes/GoogleDrive/.shortcut-targets-by-id/1GP7DKWJranQy6jycoCLbBHoyU1gq8cLp/2_TeamWork_VisualNeglect/1_Dataset/Trajectory7_Patient.mat',\n '/Volumes/GoogleDrive/.shortcut-targets-by-id/1GP7DKWJranQy6jycoCLbBHoyU1gq8cLp/2_TeamWork_VisualNeglect/1_Dataset/Trajectory8_Healthy.mat',\n '/Volumes/GoogleDrive/.shortcut-targets-by-id/1GP7DKWJranQy6jycoCLbBHoyU1gq8cLp/2_TeamWork_VisualNeglect/1_Dataset/Trajectory9_Healthy.mat',\n '/Volumes/GoogleDrive/.shortcut-targets-by-id/1GP7DKWJranQy6jycoCLbBHoyU1gq8cLp/2_TeamWork_VisualNeglect/1_Dataset/Trajectory_12_Patient.mat',\n '/Volumes/GoogleDrive/.shortcut-targets-by-id/1GP7DKWJranQy6jycoCLbBHoyU1gq8cLp/2_TeamWork_VisualNeglect/1_Dataset/Trajectory_15_Patient.mat',\n '/Volumes/GoogleDrive/.shortcut-targets-by-id/1GP7DKWJranQy6jycoCLbBHoyU1gq8cLp/2_TeamWork_VisualNeglect/1_Dataset/Trajectory_16_Patient.mat',\n '/Volumes/GoogleDrive/.shortcut-targets-by-id/1GP7DKWJranQy6jycoCLbBHoyU1gq8cLp/2_TeamWork_VisualNeglect/1_Dataset/Trajectory_17_Patient.mat',\n '/Volumes/GoogleDrive/.shortcut-targets-by-id/1GP7DKWJranQy6jycoCLbBHoyU1gq8cLp/2_TeamWork_VisualNeglect/1_Dataset/Trajectory_20_Patient.mat',\n '/Volumes/GoogleDrive/.shortcut-targets-by-id/1GP7DKWJranQy6jycoCLbBHoyU1gq8cLp/2_TeamWork_VisualNeglect/1_Dataset/Trajectory_26_Patient.mat']"
     },
     "execution_count": 54,
     "metadata": {},
     "output_type": "execute_result"
    }
   ],
   "source": [
    "Dataset_folder"
   ],
   "metadata": {
    "collapsed": false,
    "pycharm": {
     "name": "#%%\n"
    }
   }
  },
  {
   "cell_type": "code",
   "execution_count": 5,
   "outputs": [],
   "source": [
    "RT_Present = True\n",
    "MaxExpLength = 3000"
   ],
   "metadata": {
    "collapsed": false,
    "pycharm": {
     "name": "#%%\n"
    }
   }
  },
  {
   "cell_type": "code",
   "execution_count": 96,
   "outputs": [],
   "source": [
    "m = scipy.io.loadmat('/Volumes/GoogleDrive/.shortcut-targets-by-id/1GP7DKWJranQy6jycoCLbBHoyU1gq8cLp/2_TeamWork_VisualNeglect/1_Dataset/Trajectory10_Healthy.mat')"
   ],
   "metadata": {
    "collapsed": false,
    "pycharm": {
     "name": "#%%\n"
    }
   }
  },
  {
   "cell_type": "code",
   "execution_count": 102,
   "outputs": [],
   "source": [
    "a =  [elem[0]  for elem in  m['RTs'].tolist()]"
   ],
   "metadata": {
    "collapsed": false,
    "pycharm": {
     "name": "#%%\n"
    }
   }
  },
  {
   "cell_type": "code",
   "execution_count": 101,
   "outputs": [
    {
     "data": {
      "text/plain": "[[1386],\n [0],\n [1995],\n [1011],\n [880],\n [1239],\n [1369],\n [1177],\n [886],\n [911],\n [0],\n [1410],\n [1284],\n [894],\n [670],\n [2654],\n [1006],\n [1055],\n [1133],\n [815],\n [1270],\n [1078],\n [987],\n [1173],\n [1706],\n [1304],\n [1184],\n [1354],\n [1242],\n [1513],\n [1078],\n [974],\n [962],\n [1333],\n [1168],\n [1218],\n [1606],\n [1704],\n [0],\n [1117],\n [866],\n [931],\n [1198],\n [1316],\n [838],\n [0],\n [1013],\n [1119],\n [1314],\n [1138],\n [1130],\n [691],\n [970],\n [1565],\n [1195],\n [0],\n [748],\n [1390],\n [1251],\n [969],\n [1294],\n [2032],\n [1306],\n [861],\n [1356],\n [1325],\n [1919],\n [0],\n [1088],\n [1292],\n [925],\n [1721],\n [0],\n [885],\n [1193],\n [911],\n [1412],\n [911],\n [0],\n [976],\n [1411],\n [0],\n [0],\n [1031],\n [1428],\n [1117],\n [775],\n [1281],\n [879],\n [1530],\n [1683],\n [800],\n [758],\n [740],\n [775],\n [743],\n [659],\n [578],\n [822],\n [1304],\n [1945],\n [676],\n [682],\n [0],\n [1277],\n [819],\n [964],\n [731],\n [609],\n [681],\n [676],\n [0],\n [798],\n [1610],\n [1295],\n [910],\n [730],\n [1376],\n [681],\n [1052],\n [1404],\n [816],\n [1307],\n [869],\n [1264],\n [916],\n [1351],\n [1089],\n [811],\n [1209],\n [1634],\n [0],\n [980],\n [1098],\n [853],\n [971],\n [1486],\n [631],\n [1730],\n [718],\n [799],\n [1687],\n [1426],\n [1377],\n [1122],\n [1959],\n [2384],\n [1559],\n [934],\n [0],\n [877],\n [1739],\n [2684],\n [0],\n [1525],\n [940],\n [776],\n [1276],\n [944],\n [1299],\n [1084],\n [1356],\n [1025],\n [819],\n [708],\n [589],\n [1337],\n [1292],\n [0],\n [771],\n [1203],\n [692],\n [617],\n [1141],\n [756],\n [1214]]"
     },
     "execution_count": 101,
     "metadata": {},
     "output_type": "execute_result"
    }
   ],
   "source": [
    "a"
   ],
   "metadata": {
    "collapsed": false,
    "pycharm": {
     "name": "#%%\n"
    }
   }
  },
  {
   "cell_type": "code",
   "execution_count": 6,
   "outputs": [],
   "source": [
    "# Read the dataset\n",
    "Dataset = []\n",
    "for subject in Dataset_folder:\n",
    "    #read the .mat file\n",
    "    m = scipy.io.loadmat(subject)\n",
    "    singlesubj_trials = []\n",
    "\n",
    "    #fill the data structure with trial information\n",
    "    for i in range (0, len(m['EyeX_'])):\n",
    "\n",
    "        cX = m['EyeX_'][i]\n",
    "        cY = m['EyeY_'][i]\n",
    "\n",
    "        trial_df = pd.DataFrame()\n",
    "        xs = pd.DataFrame(cX).transpose().rename({0 : 'X'}, axis = 'index').transpose()['X'].ffill().bfill()\n",
    "        ys = pd.DataFrame(cY).transpose().rename({0 : 'Y'}, axis = 'index').transpose()['Y'].ffill().bfill()\n",
    "        trial_df  = xs.append(ys).transpose()\n",
    "\n",
    "        #dimensions\n",
    "        trial_dict = {\n",
    "            'EyeX' : m['EyeX_'][i],\n",
    "            'EyeY' : m['EyeY_'][i],\n",
    "            #'Target' : m['Targ_Location']\n",
    "        }\n",
    "\n",
    "        #response times\n",
    "        if RT_Present:\n",
    "            trial_dict['RT']  = list[m['RTs']]\n",
    "\n",
    "        #lamba m['Label'][0,0] == x : trial_dict['label']\n",
    "\n",
    "        #label, 1 = healthy, -1 = neglect\n",
    "        if m['Label'][0,0] == 1:\n",
    "            trial_dict['label'] = [1] * len(m['EyeX_'][i])\n",
    "        elif m['Label'][0,0] == -1:\n",
    "            trial_dict['label'] = [-1] * len(m['EyeX_'][i])\n",
    "\n",
    "        singlesubj_trials.append(trial_dict)\n",
    "    Dataset.append(singlesubj_trials)"
   ],
   "metadata": {
    "collapsed": false,
    "pycharm": {
     "name": "#%%\n"
    }
   }
  },
  {
   "cell_type": "code",
   "execution_count": 93,
   "outputs": [],
   "source": [
    "trial_df = pd.DataFrame()\n",
    "xs = pd.DataFrame(Dataset[0][0]['EyeX']).transpose().rename({0 : 'X'}, axis = 'index').transpose()['X'].ffill().bfill()\n",
    "ys = pd.DataFrame(Dataset[0][0]['EyeY']).transpose().rename({0 : 'Y'}, axis = 'index').transpose()['Y'].ffill().bfill()\n",
    "trial_df  = xs.append(ys).transpose()\n",
    "#trial_df['isX.NaN'] = trial_df[['X']].isnull().apply(lambda x: all(x), axis=1)\n",
    "#trial_df['isY.NaN'] = trial_df[['Y']].isnull().apply(lambda x: all(x), axis=1)\n",
    "# imputer = KNNImputer(n_neighbors=2)\n",
    "# imputer.fit(tmpx)\n",
    "\n",
    "\n",
    "#trial_df[trial_df['isX.NaN']  ==  'True']['X'] =\n",
    "\n",
    "# trial_df['NeedsInterpolation'] = trial_df[['X','Y']].isnull().apply(lambda x: all(x), axis=1)\n",
    "\n",
    "# trial_df['difference'] = trial_df['isX.NaN'].astype(int) - trial_df['isY.NaN'].astype(int)"
   ],
   "metadata": {
    "collapsed": false,
    "pycharm": {
     "name": "#%%\n"
    }
   }
  },
  {
   "cell_type": "code",
   "execution_count": 95,
   "outputs": [
    {
     "data": {
      "text/plain": "0       501.0\n1       501.0\n2       501.0\n3       501.0\n4       501.0\n        ...  \n2705      0.0\n2706      0.0\n2707      0.0\n2708      0.0\n2709      0.0\nLength: 5420, dtype: float64"
     },
     "execution_count": 95,
     "metadata": {},
     "output_type": "execute_result"
    }
   ],
   "source": [
    "trial_df"
   ],
   "metadata": {
    "collapsed": false,
    "pycharm": {
     "name": "#%%\n"
    }
   }
  },
  {
   "cell_type": "code",
   "execution_count": 14,
   "outputs": [],
   "source": [
    "import seaborn as sns\n",
    "from matplotlib import pyplot as plt"
   ],
   "metadata": {
    "collapsed": false,
    "pycharm": {
     "name": "#%%\n"
    }
   }
  },
  {
   "cell_type": "code",
   "execution_count": 89,
   "outputs": [],
   "source": [
    "out = tmpx['X'].ffill().bfill()"
   ],
   "metadata": {
    "collapsed": false,
    "pycharm": {
     "name": "#%%\n"
    }
   }
  },
  {
   "cell_type": "code",
   "execution_count": 90,
   "outputs": [
    {
     "data": {
      "text/plain": "0     501.0\n1     501.0\n2     501.0\n3     501.0\n4     501.0\n5     501.0\n6     501.0\n7     501.0\n8     501.0\n9     501.0\n10    501.0\n11    501.0\n12    502.0\n13    504.0\n14    503.0\n15    501.0\n16    502.0\n17    502.0\n18    503.0\n19    503.0\n20    500.0\n21    503.0\n22    500.0\n23    501.0\n24    503.0\n25    501.0\n26    502.0\n27    501.0\n28    501.0\n29    502.0\n30    502.0\n31    500.0\n32    500.0\n33    503.0\n34    501.0\n35    502.0\n36    501.0\n37    502.0\n38    501.0\n39    499.0\n40    501.0\n41    502.0\n42    500.0\n43    501.0\n44    502.0\n45    501.0\n46    501.0\n47    501.0\n48    501.0\n49    501.0\nName: X, dtype: float64"
     },
     "execution_count": 90,
     "metadata": {},
     "output_type": "execute_result"
    }
   ],
   "source": [
    "out.head(50)"
   ],
   "metadata": {
    "collapsed": false,
    "pycharm": {
     "name": "#%%\n"
    }
   }
  },
  {
   "cell_type": "code",
   "execution_count": 91,
   "outputs": [
    {
     "data": {
      "text/plain": "<AxesSubplot:ylabel='X'>"
     },
     "execution_count": 91,
     "metadata": {},
     "output_type": "execute_result"
    },
    {
     "data": {
      "text/plain": "<Figure size 1728x864 with 1 Axes>",
      "image/png": "[encoded data removed]"
     },
     "metadata": {},
     "output_type": "display_data"
    }
   ],
   "source": [
    "f, ax = plt.subplots(figsize=(24, 12))\n",
    "\n",
    "sns.set_theme(style='whitegrid')\n",
    "\n",
    "sns.lineplot(x = tmpx.index, y  = tmpx['X'], data = tmpx)\n",
    "sns.lineplot(x = tmpx.index, y = out)\n"
   ],
   "metadata": {
    "collapsed": false,
    "pycharm": {
     "name": "#%%\n"
    }
   }
  },
  {
   "cell_type": "code",
   "execution_count": null,
   "outputs": [],
   "source": [],
   "metadata": {
    "collapsed": false,
    "pycharm": {
     "name": "#%%\n"
    }
   }
  }
 ],
 "metadata": {
  "kernelspec": {
   "display_name": "Python 3",
   "language": "python",
   "name": "python3"
  },
  "language_info": {
   "codemirror_mode": {
    "name": "ipython",
    "version": 2
   },
   "file_extension": ".py",
   "mimetype": "text/x-python",
   "name": "python",
   "nbconvert_exporter": "python",
   "pygments_lexer": "ipython2",
   "version": "2.7.6"
  }
 },
 "nbformat": 4,
 "nbformat_minor": 0
}